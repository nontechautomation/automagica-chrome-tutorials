{
  "cells": [
    {
      "cell_type": "markdown",
      "source": [
        "## Instructions"
      ],
      "metadata": {
        "nteract": {
          "transient": {
            "deleting": false
          }
        }
      }
    },
    {
      "cell_type": "markdown",
      "source": [
        "#### Importing required libraries. Automagica in this case. "
      ],
      "metadata": {
        "nteract": {
          "transient": {
            "deleting": false
          }
        }
      }
    },
    {
      "cell_type": "code",
      "source": [
        "from automagica import *"
      ],
      "outputs": [],
      "execution_count": 24,
      "metadata": {
        "execution": {
          "iopub.status.busy": "2020-07-17T10:50:40.315Z",
          "iopub.execute_input": "2020-07-17T10:50:40.325Z",
          "iopub.status.idle": "2020-07-17T10:50:40.336Z",
          "shell.execute_reply": "2020-07-17T10:50:40.292Z"
        }
      }
    },
    {
      "cell_type": "markdown",
      "source": [
        "#### Create chrome instance. In other words opening the chrome browser.\n",
        "[Reference Documentation](https://automagica.readthedocs.io/activities.html#browser)"
      ],
      "metadata": {
        "nteract": {
          "transient": {
            "deleting": false
          }
        }
      }
    },
    {
      "cell_type": "code",
      "source": [
        "browser = Chrome()"
      ],
      "outputs": [],
      "execution_count": 25,
      "metadata": {
        "execution": {
          "iopub.status.busy": "2020-07-17T10:50:40.351Z",
          "iopub.execute_input": "2020-07-17T10:50:40.361Z",
          "iopub.status.idle": "2020-07-17T10:50:46.659Z",
          "shell.execute_reply": "2020-07-17T10:50:46.640Z"
        }
      }
    },
    {
      "cell_type": "markdown",
      "source": [
        "#### Naviaget to a perticular website. \n",
        "1. ```get()``` method is used to navigate to a specific web address. \n",
        "2. **Syntax:** ```get('website address')```. Here make sure to put quotes around the website address. \n",
        "3. It is ideal to copy the website address from the browser to make sure there is no typo especially in the http/https part. \n",
        "\n",
        "In the below example we are naviagating to: https://letskodeit.teachable.com/p/practice URL.\n"
      ],
      "metadata": {
        "nteract": {
          "transient": {
            "deleting": false
          }
        }
      }
    },
    {
      "cell_type": "code",
      "source": [
        "browser.get('https://letskodeit.teachable.com/p/practice')"
      ],
      "outputs": [],
      "execution_count": 26,
      "metadata": {
        "execution": {
          "iopub.status.busy": "2020-07-17T10:50:46.675Z",
          "iopub.execute_input": "2020-07-17T10:50:46.686Z",
          "shell.execute_reply": "2020-07-17T10:50:49.819Z",
          "iopub.status.idle": "2020-07-17T10:50:49.831Z"
        }
      }
    },
    {
      "cell_type": "markdown",
      "source": [
        "#### Insert text in a field\n",
        "1. Webelement is store in the variable ```your_name_field ```\n",
        "2. On the next step we are using ```send_keys()``` method to insert text in the field\n",
        "3. This is similar to the browser.get() where the value should be placed in quotes. \n",
        "4. **Syntax:** element.send_keys('value')\n",
        "\n",
        "The example below ```your_name_field``` holds the value of element and then we are performing send_keys on the element. "
      ],
      "metadata": {
        "nteract": {
          "transient": {
            "deleting": false
          }
        }
      }
    },
    {
      "cell_type": "code",
      "source": [
        "your_name_field = browser.by_id('name')"
      ],
      "outputs": [],
      "execution_count": 27,
      "metadata": {
        "collapsed": true,
        "jupyter": {
          "source_hidden": false,
          "outputs_hidden": false
        },
        "nteract": {
          "transient": {
            "deleting": false
          }
        },
        "execution": {
          "iopub.status.busy": "2020-07-17T10:50:49.845Z",
          "iopub.execute_input": "2020-07-17T10:50:49.855Z",
          "shell.execute_reply": "2020-07-17T10:50:50.565Z",
          "iopub.status.idle": "2020-07-17T10:50:50.580Z"
        }
      }
    },
    {
      "cell_type": "code",
      "source": [
        "your_name_field.send_keys('Sample Input')"
      ],
      "outputs": [],
      "execution_count": 28,
      "metadata": {
        "collapsed": true,
        "jupyter": {
          "source_hidden": false,
          "outputs_hidden": false
        },
        "nteract": {
          "transient": {
            "deleting": false
          }
        },
        "execution": {
          "iopub.status.busy": "2020-07-17T10:50:50.593Z",
          "iopub.execute_input": "2020-07-17T10:50:50.604Z",
          "iopub.status.idle": "2020-07-17T10:50:51.214Z",
          "shell.execute_reply": "2020-07-17T10:50:51.247Z"
        }
      }
    },
    {
      "cell_type": "markdown",
      "source": [
        "#### Dealing with radio button\n",
        "1. Webelement is store in the variable ```bmw_radio_button ```\n",
        "2. On the next step we are using ```click()``` method to click on the radio button \n",
        "3. **Syntax:** element.click()\n",
        "\n",
        "The example below ```bmw_radio_button``` holds the value of element and then we are performing click on the element. "
      ],
      "metadata": {
        "nteract": {
          "transient": {
            "deleting": false
          }
        }
      }
    },
    {
      "cell_type": "code",
      "source": [
        "bmw_radio_button = browser.by_id('bmwradio')"
      ],
      "outputs": [],
      "execution_count": 29,
      "metadata": {
        "execution": {
          "iopub.status.busy": "2020-07-17T10:50:51.226Z",
          "iopub.execute_input": "2020-07-17T10:50:51.235Z",
          "iopub.status.idle": "2020-07-17T10:50:51.977Z",
          "shell.execute_reply": "2020-07-17T10:50:51.964Z"
        }
      }
    },
    {
      "cell_type": "code",
      "source": [
        "bmw_radio_button.click()"
      ],
      "outputs": [],
      "execution_count": 30,
      "metadata": {
        "execution": {
          "iopub.status.busy": "2020-07-17T10:50:51.991Z",
          "iopub.execute_input": "2020-07-17T10:50:51.998Z",
          "iopub.status.idle": "2020-07-17T10:50:52.024Z",
          "shell.execute_reply": "2020-07-17T10:50:52.054Z"
        }
      }
    },
    {
      "cell_type": "markdown",
      "source": [
        "#### Dealing with checkbox\n",
        "1. Webelement is store in the variable ```bmw_checkbox ```\n",
        "2. On the next step we are using ```click()``` method to click on the checkbox\n",
        "3. **Syntax:** element.click()\n",
        "\n",
        "The example below ```bmw_checkbox``` holds the value of element and then we are performing click on the element."
      ],
      "metadata": {
        "nteract": {
          "transient": {
            "deleting": false
          }
        }
      }
    },
    {
      "cell_type": "code",
      "source": [
        "bmw_checkbox = browser.by_id('bmwcheck')"
      ],
      "outputs": [],
      "execution_count": 31,
      "metadata": {
        "execution": {
          "iopub.status.busy": "2020-07-17T10:50:52.034Z",
          "iopub.execute_input": "2020-07-17T10:50:52.042Z",
          "shell.execute_reply": "2020-07-17T10:50:52.845Z",
          "iopub.status.idle": "2020-07-17T10:50:52.807Z"
        }
      }
    },
    {
      "cell_type": "code",
      "source": [
        "bmw_checkbox.click()"
      ],
      "outputs": [],
      "execution_count": 32,
      "metadata": {
        "execution": {
          "iopub.status.busy": "2020-07-17T10:50:52.819Z",
          "iopub.execute_input": "2020-07-17T10:50:52.830Z",
          "shell.execute_reply": "2020-07-17T10:50:52.889Z",
          "iopub.status.idle": "2020-07-17T10:50:52.858Z"
        }
      }
    },
    {
      "cell_type": "code",
      "source": [
        "honda_checkbox = browser.by_id('hondacheck')"
      ],
      "outputs": [],
      "execution_count": 33,
      "metadata": {
        "execution": {
          "iopub.status.busy": "2020-07-17T10:50:52.869Z",
          "iopub.execute_input": "2020-07-17T10:50:52.877Z",
          "iopub.status.idle": "2020-07-17T10:50:53.617Z",
          "shell.execute_reply": "2020-07-17T10:50:53.652Z"
        }
      }
    },
    {
      "cell_type": "code",
      "source": [
        "honda_checkbox.click()"
      ],
      "outputs": [],
      "execution_count": 34,
      "metadata": {
        "execution": {
          "iopub.status.busy": "2020-07-17T10:50:53.629Z",
          "iopub.execute_input": "2020-07-17T10:50:53.637Z",
          "iopub.status.idle": "2020-07-17T10:50:53.669Z",
          "shell.execute_reply": "2020-07-17T10:50:53.657Z"
        }
      }
    },
    {
      "cell_type": "markdown",
      "source": [
        "#### Dealing with dropdowns\n",
        "1. We need to add one more import. It can be at the top or here. But import must be done before we use it. \n",
        "2. Webelement is store in the variable ```drop_down ```.\n",
        "3. We are initializing ```select``` by using webelement ```drop_down```.\n",
        "2. On the next step we are using ```select_by_visible_text()``` method to select an item from the dropdown.\n",
        "3. **Syntax:** select.select_by_visible_text('item text')"
      ],
      "metadata": {
        "nteract": {
          "transient": {
            "deleting": false
          }
        }
      }
    },
    {
      "cell_type": "code",
      "source": [
        "from selenium.webdriver.support.ui import Select"
      ],
      "outputs": [],
      "execution_count": 35,
      "metadata": {
        "execution": {
          "iopub.status.busy": "2020-07-17T10:50:53.680Z",
          "iopub.execute_input": "2020-07-17T10:50:53.688Z",
          "iopub.status.idle": "2020-07-17T10:50:53.777Z",
          "shell.execute_reply": "2020-07-17T10:50:53.810Z"
        }
      }
    },
    {
      "cell_type": "code",
      "source": [
        "drop_down = browser.by_id('carselect')\n",
        "select = Select(drop_down)\n",
        "select.select_by_visible_text('Honda')"
      ],
      "outputs": [],
      "execution_count": 36,
      "metadata": {
        "execution": {
          "iopub.status.busy": "2020-07-17T10:50:53.789Z",
          "iopub.execute_input": "2020-07-17T10:50:53.797Z",
          "shell.execute_reply": "2020-07-17T10:50:54.709Z",
          "iopub.status.idle": "2020-07-17T10:50:54.683Z"
        }
      }
    },
    {
      "cell_type": "markdown",
      "source": [
        "#### Dealing with alearts\n",
        "1. Here we are first clicking on the button which is similar to the way we click for the checkbox.\n",
        "2. For instance, there is a pop up to accept or decline after button click, we have to first switch to that alert. \n",
        "3. We will do it by using ```browser.switch_to.alert``` and assign it to ```alert``` variable\n",
        "4. After that we can perform accept/decline based on the requirement. \n",
        "\n",
        "[Reference](https://www.techbeamers.com/handle-alert-popup-selenium-python/)\n"
      ],
      "metadata": {
        "nteract": {
          "transient": {
            "deleting": false
          }
        }
      }
    },
    {
      "cell_type": "code",
      "source": [
        "confirm_button = browser.by_id('confirmbtn')"
      ],
      "outputs": [],
      "execution_count": 37,
      "metadata": {
        "collapsed": true,
        "jupyter": {
          "source_hidden": false,
          "outputs_hidden": false
        },
        "nteract": {
          "transient": {
            "deleting": false
          }
        },
        "execution": {
          "iopub.status.busy": "2020-07-17T10:50:54.694Z",
          "iopub.execute_input": "2020-07-17T10:50:54.701Z",
          "iopub.status.idle": "2020-07-17T10:50:55.398Z",
          "shell.execute_reply": "2020-07-17T10:50:55.433Z"
        }
      }
    },
    {
      "cell_type": "code",
      "source": [
        "confirm_button.click()"
      ],
      "outputs": [],
      "execution_count": 38,
      "metadata": {
        "collapsed": true,
        "jupyter": {
          "source_hidden": false,
          "outputs_hidden": false
        },
        "nteract": {
          "transient": {
            "deleting": false
          }
        },
        "execution": {
          "iopub.status.busy": "2020-07-17T10:50:55.411Z",
          "iopub.execute_input": "2020-07-17T10:50:55.420Z",
          "iopub.status.idle": "2020-07-17T10:50:55.458Z",
          "shell.execute_reply": "2020-07-17T10:50:55.445Z"
        }
      }
    },
    {
      "cell_type": "code",
      "source": [
        "alert = browser.switch_to.alert"
      ],
      "outputs": [],
      "execution_count": 39,
      "metadata": {
        "collapsed": true,
        "jupyter": {
          "source_hidden": false,
          "outputs_hidden": false
        },
        "nteract": {
          "transient": {
            "deleting": false
          }
        },
        "execution": {
          "iopub.status.busy": "2020-07-17T10:50:55.469Z",
          "iopub.execute_input": "2020-07-17T10:50:55.476Z",
          "iopub.status.idle": "2020-07-17T10:50:55.502Z",
          "shell.execute_reply": "2020-07-17T10:50:55.534Z"
        }
      }
    },
    {
      "cell_type": "code",
      "source": [
        "alert.accept()"
      ],
      "outputs": [],
      "execution_count": 40,
      "metadata": {
        "collapsed": true,
        "jupyter": {
          "source_hidden": false,
          "outputs_hidden": false
        },
        "nteract": {
          "transient": {
            "deleting": false
          }
        },
        "execution": {
          "iopub.status.busy": "2020-07-17T10:50:55.514Z",
          "iopub.execute_input": "2020-07-17T10:50:55.522Z",
          "iopub.status.idle": "2020-07-17T10:50:55.608Z",
          "shell.execute_reply": "2020-07-17T10:50:55.643Z"
        }
      }
    },
    {
      "cell_type": "code",
      "source": [
        "confirm_button.click()"
      ],
      "outputs": [],
      "execution_count": 41,
      "metadata": {
        "collapsed": true,
        "jupyter": {
          "source_hidden": false,
          "outputs_hidden": false
        },
        "nteract": {
          "transient": {
            "deleting": false
          }
        },
        "execution": {
          "iopub.status.busy": "2020-07-17T10:50:55.622Z",
          "iopub.execute_input": "2020-07-17T10:50:55.630Z",
          "iopub.status.idle": "2020-07-17T10:50:55.828Z",
          "shell.execute_reply": "2020-07-17T10:50:55.818Z"
        }
      }
    },
    {
      "cell_type": "code",
      "source": [
        "alert.dismiss()"
      ],
      "outputs": [],
      "execution_count": 42,
      "metadata": {
        "collapsed": true,
        "jupyter": {
          "source_hidden": false,
          "outputs_hidden": false
        },
        "nteract": {
          "transient": {
            "deleting": false
          }
        },
        "execution": {
          "iopub.status.busy": "2020-07-17T10:50:55.839Z",
          "iopub.execute_input": "2020-07-17T10:50:55.847Z",
          "iopub.status.idle": "2020-07-17T10:50:55.906Z",
          "shell.execute_reply": "2020-07-17T10:50:55.893Z"
        }
      }
    },
    {
      "cell_type": "markdown",
      "source": [
        "#### Closing the web browser. Make sure to do this else it may take resources on the machine. "
      ],
      "metadata": {
        "nteract": {
          "transient": {
            "deleting": false
          }
        }
      }
    },
    {
      "cell_type": "code",
      "source": [
        "browser.exit()"
      ],
      "outputs": [],
      "execution_count": 43,
      "metadata": {
        "collapsed": true,
        "jupyter": {
          "source_hidden": false,
          "outputs_hidden": false
        },
        "nteract": {
          "transient": {
            "deleting": false
          }
        },
        "execution": {
          "iopub.status.busy": "2020-07-17T10:50:55.919Z",
          "iopub.execute_input": "2020-07-17T10:50:55.927Z",
          "iopub.status.idle": "2020-07-17T10:50:58.881Z",
          "shell.execute_reply": "2020-07-17T10:50:58.889Z"
        }
      }
    },
    {
      "cell_type": "code",
      "source": [],
      "outputs": [],
      "execution_count": null,
      "metadata": {
        "collapsed": true,
        "jupyter": {
          "source_hidden": false,
          "outputs_hidden": false
        },
        "nteract": {
          "transient": {
            "deleting": false
          }
        }
      }
    }
  ],
  "metadata": {
    "kernelspec": {
      "display_name": "Python 3",
      "language": "python",
      "name": "python3"
    },
    "language_info": {
      "name": "python",
      "version": "3.7.6",
      "mimetype": "text/x-python",
      "codemirror_mode": {
        "name": "ipython",
        "version": 3
      },
      "pygments_lexer": "ipython3",
      "nbconvert_exporter": "python",
      "file_extension": ".py"
    },
    "nteract": {
      "version": "0.24.0"
    }
  },
  "nbformat": 4,
  "nbformat_minor": 4
}