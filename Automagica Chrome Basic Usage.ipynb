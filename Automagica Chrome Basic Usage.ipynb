{
  "cells": [
    {
      "cell_type": "markdown",
      "source": [
        "## Instructions\n",
        "\n",
        "We will be using an online form to explore basic features around browser automation.\n",
        "\n",
        "Site: https://www.techlistic.com/p/selenium-practice-form.html"
      ],
      "metadata": {
        "nteract": {
          "transient": {
            "deleting": false
          }
        }
      }
    },
    {
      "cell_type": "markdown",
      "source": [
        "#### Importing required libraries. Automagica in this case. "
      ],
      "metadata": {
        "nteract": {
          "transient": {
            "deleting": false
          }
        }
      }
    },
    {
      "cell_type": "code",
      "source": [
        "from automagica import *"
      ],
      "outputs": [],
      "execution_count": 1,
      "metadata": {
        "execution": {
          "iopub.status.busy": "2020-07-18T09:27:55.704Z",
          "iopub.execute_input": "2020-07-18T09:27:55.715Z",
          "iopub.status.idle": "2020-07-18T09:27:55.732Z",
          "shell.execute_reply": "2020-07-18T09:27:55.774Z"
        }
      }
    },
    {
      "cell_type": "markdown",
      "source": [
        "#### Create chrome instance. In other words opening the chrome browser.\n",
        "[Reference Documentation](https://automagica.readthedocs.io/activities.html#browser)"
      ],
      "metadata": {
        "nteract": {
          "transient": {
            "deleting": false
          }
        }
      }
    },
    {
      "cell_type": "code",
      "source": [
        "browser = Chrome()"
      ],
      "outputs": [],
      "execution_count": 2,
      "metadata": {
        "execution": {
          "iopub.status.busy": "2020-07-18T09:27:55.752Z",
          "iopub.execute_input": "2020-07-18T09:27:55.762Z",
          "iopub.status.idle": "2020-07-18T09:28:02.064Z",
          "shell.execute_reply": "2020-07-18T09:28:02.043Z"
        }
      }
    },
    {
      "cell_type": "markdown",
      "source": [
        "#### Naviaget to a perticular website. \n",
        "1. ```get()``` method is used to navigate to a specific web address. \n",
        "2. **Syntax:** ```get('website address')```. Here make sure to put quotes around the website address. \n",
        "3. It is ideal to copy the website address from the browser to make sure there is no typo especially in the http/https part. \n",
        "\n",
        "In the below example we are naviagating to: https://letskodeit.teachable.com/p/practice URL.\n"
      ],
      "metadata": {
        "nteract": {
          "transient": {
            "deleting": false
          }
        }
      }
    },
    {
      "cell_type": "code",
      "source": [
        "browser.get('https://www.techlistic.com/p/selenium-practice-form.html')"
      ],
      "outputs": [],
      "execution_count": 3,
      "metadata": {
        "execution": {
          "iopub.status.busy": "2020-07-18T09:28:02.081Z",
          "iopub.execute_input": "2020-07-18T09:28:02.092Z",
          "shell.execute_reply": "2020-07-18T09:28:03.430Z",
          "iopub.status.idle": "2020-07-18T09:28:03.366Z"
        }
      }
    },
    {
      "cell_type": "markdown",
      "source": [
        "#### Insert text in a field\n",
        "1. Webelement is store in the variable ```your_name_field ```\n",
        "2. On the next step we are using ```send_keys()``` method to insert text in the field\n",
        "3. This is similar to the browser.get() where the value should be placed in quotes. \n",
        "4. **Syntax:** element.send_keys('value')\n",
        "\n",
        "The example below ```your_name_field``` holds the value of element and then we are performing send_keys on the element. "
      ],
      "metadata": {
        "nteract": {
          "transient": {
            "deleting": false
          }
        }
      }
    },
    {
      "cell_type": "code",
      "source": [
        "your_name_field = browser.by_xpath('//*[@id=\"post-body-3077692503353518311\"]/div/div/div[3]/input')"
      ],
      "outputs": [],
      "execution_count": 4,
      "metadata": {
        "collapsed": true,
        "jupyter": {
          "source_hidden": false,
          "outputs_hidden": false
        },
        "nteract": {
          "transient": {
            "deleting": false
          }
        },
        "execution": {
          "iopub.status.busy": "2020-07-18T09:28:03.387Z",
          "iopub.execute_input": "2020-07-18T09:28:03.406Z",
          "shell.execute_reply": "2020-07-18T09:28:04.616Z",
          "iopub.status.idle": "2020-07-18T09:28:04.539Z"
        }
      }
    },
    {
      "cell_type": "code",
      "source": [
        "your_name_field.send_keys('Sample Input')"
      ],
      "outputs": [],
      "execution_count": 5,
      "metadata": {
        "collapsed": true,
        "jupyter": {
          "source_hidden": false,
          "outputs_hidden": false
        },
        "nteract": {
          "transient": {
            "deleting": false
          }
        },
        "execution": {
          "iopub.status.busy": "2020-07-18T09:28:04.572Z",
          "iopub.execute_input": "2020-07-18T09:28:04.584Z",
          "iopub.status.idle": "2020-07-18T09:28:04.724Z",
          "shell.execute_reply": "2020-07-18T09:28:04.793Z"
        }
      }
    },
    {
      "cell_type": "markdown",
      "source": [
        "#### Dealing with radio button\n",
        "1. Webelement is store in the variable ```male_radio_button ```\n",
        "2. On the next step we are using ```click()``` method to click on the radio button \n",
        "3. **Syntax:** element.click()\n",
        "\n",
        "The example below ```male_radio_button``` holds the value of element and then we are performing click on the element. "
      ],
      "metadata": {
        "nteract": {
          "transient": {
            "deleting": false
          }
        }
      }
    },
    {
      "cell_type": "code",
      "source": [
        "male_radio_button = browser.by_id('sex-0')"
      ],
      "outputs": [],
      "execution_count": 6,
      "metadata": {
        "execution": {
          "iopub.status.busy": "2020-07-18T09:28:04.748Z",
          "iopub.execute_input": "2020-07-18T09:28:04.766Z",
          "iopub.status.idle": "2020-07-18T09:28:05.414Z",
          "shell.execute_reply": "2020-07-18T09:28:05.400Z"
        }
      }
    },
    {
      "cell_type": "code",
      "source": [
        "male_radio_button.click()"
      ],
      "outputs": [],
      "execution_count": 7,
      "metadata": {
        "execution": {
          "iopub.status.busy": "2020-07-18T09:28:05.432Z",
          "iopub.execute_input": "2020-07-18T09:28:05.442Z",
          "iopub.status.idle": "2020-07-18T09:28:05.513Z",
          "shell.execute_reply": "2020-07-18T09:28:05.500Z"
        }
      }
    },
    {
      "cell_type": "markdown",
      "source": [
        "#### Dealing with checkbox\n",
        "1. Webelement is store in the variable ```selenium_checkbox ```\n",
        "2. On the next step we are using ```click()``` method to click on the checkbox\n",
        "3. **Syntax:** element.click()\n",
        "\n",
        "The example below ```selenium_checkbox``` holds the value of element and then we are performing click on the element."
      ],
      "metadata": {
        "nteract": {
          "transient": {
            "deleting": false
          }
        }
      }
    },
    {
      "cell_type": "code",
      "source": [
        "selenium_checkbox = browser.by_id('tool-2')"
      ],
      "outputs": [],
      "execution_count": 8,
      "metadata": {
        "execution": {
          "iopub.status.busy": "2020-07-18T09:28:05.529Z",
          "iopub.execute_input": "2020-07-18T09:28:05.541Z",
          "shell.execute_reply": "2020-07-18T09:28:06.188Z",
          "iopub.status.idle": "2020-07-18T09:28:06.203Z"
        }
      }
    },
    {
      "cell_type": "code",
      "source": [
        "selenium_checkbox.click()"
      ],
      "outputs": [],
      "execution_count": 9,
      "metadata": {
        "execution": {
          "iopub.status.busy": "2020-07-18T09:28:06.220Z",
          "iopub.execute_input": "2020-07-18T09:28:06.234Z",
          "shell.execute_reply": "2020-07-18T09:28:06.307Z",
          "iopub.status.idle": "2020-07-18T09:28:06.255Z"
        }
      }
    },
    {
      "cell_type": "code",
      "source": [
        "uft_checkbox = browser.by_id('tool-0')"
      ],
      "outputs": [],
      "execution_count": 10,
      "metadata": {
        "execution": {
          "iopub.status.busy": "2020-07-18T09:28:06.272Z",
          "iopub.execute_input": "2020-07-18T09:28:06.284Z",
          "iopub.status.idle": "2020-07-18T09:28:07.040Z",
          "shell.execute_reply": "2020-07-18T09:28:07.028Z"
        }
      }
    },
    {
      "cell_type": "code",
      "source": [
        "uft_checkbox.click()"
      ],
      "outputs": [],
      "execution_count": 11,
      "metadata": {
        "execution": {
          "iopub.status.busy": "2020-07-18T09:28:07.056Z",
          "iopub.execute_input": "2020-07-18T09:28:07.065Z",
          "iopub.status.idle": "2020-07-18T09:28:07.093Z",
          "shell.execute_reply": "2020-07-18T09:28:07.128Z"
        }
      }
    },
    {
      "cell_type": "markdown",
      "source": [
        "#### Dealing with dropdowns\n",
        "1. We need to add one more import. It can be at the top or here. But import must be done before we use it. \n",
        "2. Webelement is store in the variable ```drop_down ```.\n",
        "3. We are initializing ```select``` by using webelement ```drop_down```.\n",
        "2. On the next step we are using ```select_by_visible_text()``` method to select an item from the dropdown.\n",
        "3. **Syntax:** select.select_by_visible_text('item text')"
      ],
      "metadata": {
        "nteract": {
          "transient": {
            "deleting": false
          }
        }
      }
    },
    {
      "cell_type": "code",
      "source": [
        "from selenium.webdriver.support.ui import Select"
      ],
      "outputs": [],
      "execution_count": 12,
      "metadata": {
        "execution": {
          "iopub.status.busy": "2020-07-18T09:28:07.109Z",
          "iopub.execute_input": "2020-07-18T09:28:07.118Z",
          "iopub.status.idle": "2020-07-18T09:28:07.157Z",
          "shell.execute_reply": "2020-07-18T09:28:07.198Z"
        }
      }
    },
    {
      "cell_type": "code",
      "source": [
        "drop_down = browser.by_id('continents')\n",
        "select = Select(drop_down)\n",
        "select.select_by_visible_text('Australia')"
      ],
      "outputs": [],
      "execution_count": 13,
      "metadata": {
        "execution": {
          "iopub.status.busy": "2020-07-18T09:28:07.171Z",
          "iopub.execute_input": "2020-07-18T09:28:07.183Z",
          "shell.execute_reply": "2020-07-18T09:28:08.014Z",
          "iopub.status.idle": "2020-07-18T09:28:07.976Z"
        }
      }
    },
    {
      "cell_type": "markdown",
      "source": [
        "#### Click submit button\n",
        "\n",
        "[Reference for alerts](https://www.techbeamers.com/handle-alert-popup-selenium-python/)\n"
      ],
      "metadata": {
        "nteract": {
          "transient": {
            "deleting": false
          }
        }
      }
    },
    {
      "cell_type": "code",
      "source": [
        "submit_button = browser.by_id('submit')"
      ],
      "outputs": [],
      "execution_count": 14,
      "metadata": {
        "collapsed": true,
        "jupyter": {
          "source_hidden": false,
          "outputs_hidden": false
        },
        "nteract": {
          "transient": {
            "deleting": false
          }
        },
        "execution": {
          "iopub.status.busy": "2020-07-18T09:28:07.990Z",
          "iopub.execute_input": "2020-07-18T09:28:07.998Z",
          "iopub.status.idle": "2020-07-18T09:28:08.604Z",
          "shell.execute_reply": "2020-07-18T09:28:08.592Z"
        }
      }
    },
    {
      "cell_type": "code",
      "source": [
        "submit_button.click()"
      ],
      "outputs": [],
      "execution_count": 15,
      "metadata": {
        "collapsed": true,
        "jupyter": {
          "source_hidden": false,
          "outputs_hidden": false
        },
        "nteract": {
          "transient": {
            "deleting": false
          }
        },
        "execution": {
          "iopub.status.busy": "2020-07-18T09:28:08.620Z",
          "iopub.execute_input": "2020-07-18T09:28:08.631Z",
          "iopub.status.idle": "2020-07-18T09:28:08.662Z",
          "shell.execute_reply": "2020-07-18T09:28:08.648Z"
        }
      }
    },
    {
      "cell_type": "markdown",
      "source": [
        "#### Closing the web browser. Make sure to do this else it may take resources on the machine. "
      ],
      "metadata": {
        "nteract": {
          "transient": {
            "deleting": false
          }
        }
      }
    },
    {
      "cell_type": "code",
      "source": [
        "browser.exit()"
      ],
      "outputs": [],
      "execution_count": 16,
      "metadata": {
        "collapsed": true,
        "jupyter": {
          "source_hidden": false,
          "outputs_hidden": false
        },
        "nteract": {
          "transient": {
            "deleting": false
          }
        },
        "execution": {
          "iopub.status.busy": "2020-07-18T09:28:08.676Z",
          "iopub.execute_input": "2020-07-18T09:28:08.686Z",
          "iopub.status.idle": "2020-07-18T09:28:11.548Z",
          "shell.execute_reply": "2020-07-18T09:28:11.532Z"
        }
      }
    }
  ],
  "metadata": {
    "kernelspec": {
      "display_name": "Python 3",
      "language": "python",
      "name": "python3"
    },
    "language_info": {
      "name": "python",
      "version": "3.7.6",
      "mimetype": "text/x-python",
      "codemirror_mode": {
        "name": "ipython",
        "version": 3
      },
      "pygments_lexer": "ipython3",
      "nbconvert_exporter": "python",
      "file_extension": ".py"
    },
    "nteract": {
      "version": "0.24.0"
    }
  },
  "nbformat": 4,
  "nbformat_minor": 4
}